{
 "cells": [
  {
   "cell_type": "markdown",
   "metadata": {},
   "source": [
    "# Tensorboard\n",
    "\n",
    "---\n",
    "\n",
    "**NOTE: You must watch the corresponding video to understand this lecture. This notebook can't serve as a full guide. Please watch the video BEFORE posting questions to the QA forum.**\n",
    "\n",
    "---\n",
    "\n",
    "Let's explore the built in data visualization capabilities that come with Tensorboard.\n",
    "\n",
    "Full official tutorial available here: https://www.tensorflow.org/tensorboard/get_started\n",
    "\n",
    "## Data"
   ]
  },
  {
   "cell_type": "code",
   "execution_count": 1,
   "metadata": {},
   "outputs": [],
   "source": [
    "import pandas as pd\n",
    "import numpy as np"
   ]
  },
  {
   "cell_type": "code",
   "execution_count": 2,
   "metadata": {},
   "outputs": [],
   "source": [
    "df = pd.read_csv('./data/cancer_classification.csv')"
   ]
  },
  {
   "cell_type": "markdown",
   "metadata": {},
   "source": [
    "### Train Test Split"
   ]
  },
  {
   "cell_type": "code",
   "execution_count": 3,
   "metadata": {},
   "outputs": [],
   "source": [
    "X = df.drop('benign_0__mal_1',axis=1).values\n",
    "y = df['benign_0__mal_1'].values"
   ]
  },
  {
   "cell_type": "code",
   "execution_count": 4,
   "metadata": {},
   "outputs": [],
   "source": [
    "from sklearn.model_selection import train_test_split"
   ]
  },
  {
   "cell_type": "code",
   "execution_count": 5,
   "metadata": {},
   "outputs": [],
   "source": [
    "X_train, X_test, y_train, y_test = train_test_split(X,y,test_size=0.25,random_state=101)"
   ]
  },
  {
   "cell_type": "markdown",
   "metadata": {},
   "source": [
    "\n",
    "### Scaling Data"
   ]
  },
  {
   "cell_type": "code",
   "execution_count": 6,
   "metadata": {},
   "outputs": [],
   "source": [
    "from sklearn.preprocessing import MinMaxScaler"
   ]
  },
  {
   "cell_type": "code",
   "execution_count": 7,
   "metadata": {},
   "outputs": [],
   "source": [
    "scaler = MinMaxScaler()"
   ]
  },
  {
   "cell_type": "code",
   "execution_count": 8,
   "metadata": {},
   "outputs": [
    {
     "data": {
      "text/plain": [
       "MinMaxScaler()"
      ]
     },
     "execution_count": 8,
     "metadata": {},
     "output_type": "execute_result"
    }
   ],
   "source": [
    "scaler.fit(X_train)"
   ]
  },
  {
   "cell_type": "code",
   "execution_count": 9,
   "metadata": {},
   "outputs": [],
   "source": [
    "X_train = scaler.transform(X_train)\n",
    "X_test = scaler.transform(X_test)"
   ]
  },
  {
   "cell_type": "markdown",
   "metadata": {},
   "source": [
    "## Creating the Model"
   ]
  },
  {
   "cell_type": "code",
   "execution_count": 10,
   "metadata": {},
   "outputs": [],
   "source": [
    "import tensorflow as tf\n",
    "from tensorflow.keras.models import Sequential\n",
    "from tensorflow.keras.layers import Dense, Activation,Dropout\n",
    "%load_ext tensorboard"
   ]
  },
  {
   "cell_type": "code",
   "execution_count": 11,
   "metadata": {},
   "outputs": [],
   "source": [
    "from tensorflow.keras.callbacks import EarlyStopping,TensorBoard"
   ]
  },
  {
   "cell_type": "code",
   "execution_count": 12,
   "metadata": {},
   "outputs": [],
   "source": [
    "early_stop = EarlyStopping(monitor='val_loss', mode='min', verbose=1, patience=25)"
   ]
  },
  {
   "cell_type": "code",
   "execution_count": 13,
   "metadata": {},
   "outputs": [
    {
     "data": {
      "text/plain": [
       "'/home/gary/workspace/Python/jupyter/Python-Data-Science-Tutorial/Deep Learning'"
      ]
     },
     "execution_count": 13,
     "metadata": {},
     "output_type": "execute_result"
    }
   ],
   "source": [
    "pwd"
   ]
  },
  {
   "cell_type": "markdown",
   "metadata": {},
   "source": [
    "## Creating the Tensorboard Callback\n",
    "\n",
    "TensorBoard is a visualization tool provided with TensorFlow.\n",
    "\n",
    "This callback logs events for TensorBoard, including:\n",
    "* Metrics summary plots\n",
    "* Training graph visualization\n",
    "* Activation histograms\n",
    "* Sampled profiling\n",
    "\n",
    "If you have installed TensorFlow with pip, you should be able\n",
    "to launch TensorBoard from the command line:\n",
    "\n",
    "```sh\n",
    "tensorboard --logdir=path_to_your_logs\n",
    "```\n",
    "\n",
    "You can find more information about TensorBoard\n",
    "[here](https://www.tensorflow.org/tensorboard/).\n",
    "\n",
    "    Arguments:\n",
    "        log_dir: the path of the directory where to save the log files to be\n",
    "          parsed by TensorBoard.\n",
    "        histogram_freq: frequency (in epochs) at which to compute activation and\n",
    "          weight histograms for the layers of the model. If set to 0, histograms\n",
    "          won't be computed. Validation data (or split) must be specified for\n",
    "          histogram visualizations.\n",
    "        write_graph: whether to visualize the graph in TensorBoard. The log file\n",
    "          can become quite large when write_graph is set to True.\n",
    "        write_images: whether to write model weights to visualize as image in\n",
    "          TensorBoard.\n",
    "        update_freq: `'batch'` or `'epoch'` or integer. When using `'batch'`,\n",
    "          writes the losses and metrics to TensorBoard after each batch. The same\n",
    "          applies for `'epoch'`. If using an integer, let's say `1000`, the\n",
    "          callback will write the metrics and losses to TensorBoard every 1000\n",
    "          samples. Note that writing too frequently to TensorBoard can slow down\n",
    "          your training.\n",
    "        profile_batch: Profile the batch to sample compute characteristics. By\n",
    "          default, it will profile the second batch. Set profile_batch=0 to\n",
    "          disable profiling. Must run in TensorFlow eager mode.\n",
    "        embeddings_freq: frequency (in epochs) at which embedding layers will\n",
    "          be visualized. If set to 0, embeddings won't be visualized.\n",
    "       "
   ]
  },
  {
   "cell_type": "code",
   "execution_count": 14,
   "metadata": {},
   "outputs": [],
   "source": [
    "from datetime import datetime"
   ]
  },
  {
   "cell_type": "code",
   "execution_count": 15,
   "metadata": {},
   "outputs": [
    {
     "data": {
      "text/plain": [
       "'2021-01-06--1004'"
      ]
     },
     "execution_count": 15,
     "metadata": {},
     "output_type": "execute_result"
    }
   ],
   "source": [
    "datetime.now().strftime(\"%Y-%m-%d--%H%M\")"
   ]
  },
  {
   "cell_type": "code",
   "execution_count": 16,
   "metadata": {},
   "outputs": [],
   "source": [
    "# WINDOWS: Use \"logs\\\\fit\"\n",
    "# MACOS/LINUX: Use \"logs\\fit\"\n",
    "\n",
    "log_directory = 'logs/fit'\n",
    "\n",
    "# OPTIONAL: ADD A TIMESTAMP FOR UNIQUE FOLDER\n",
    "# timestamp = datetime.now().strftime(\"%Y-%m-%d--%H%M\")\n",
    "# log_directory = log_directory + '\\\\' + timestamp\n",
    "\n",
    "\n",
    "board = TensorBoard(log_dir=log_directory,histogram_freq=1,\n",
    "    write_graph=True,\n",
    "    write_images=True,\n",
    "    update_freq='epoch',\n",
    "    profile_batch=2,\n",
    "    embeddings_freq=1)"
   ]
  },
  {
   "cell_type": "markdown",
   "metadata": {},
   "source": [
    "Now create the model layers:"
   ]
  },
  {
   "cell_type": "code",
   "execution_count": 17,
   "metadata": {},
   "outputs": [],
   "source": [
    "model = Sequential()\n",
    "model.add(Dense(units=30,activation='relu'))\n",
    "model.add(Dropout(0.5))\n",
    "model.add(Dense(units=15,activation='relu'))\n",
    "model.add(Dropout(0.5))\n",
    "model.add(Dense(units=1,activation='sigmoid'))\n",
    "model.compile(loss='binary_crossentropy', optimizer='adam')"
   ]
  },
  {
   "cell_type": "markdown",
   "metadata": {},
   "source": [
    "## Train the Model"
   ]
  },
  {
   "cell_type": "code",
   "execution_count": 18,
   "metadata": {
    "scrolled": true
   },
   "outputs": [
    {
     "name": "stdout",
     "output_type": "stream",
     "text": [
      "Epoch 1/600\n",
      " 1/14 [=>............................] - ETA: 0s - loss: 0.7249WARNING:tensorflow:From /home/gary/workspace/Python/jupyter/Python-Data-Science-Tutorial/.venv/lib/python3.8/site-packages/tensorflow/python/ops/summary_ops_v2.py:1277: stop (from tensorflow.python.eager.profiler) is deprecated and will be removed after 2020-07-01.\n",
      "Instructions for updating:\n",
      "use `tf.profiler.experimental.stop` instead.\n",
      "WARNING:tensorflow:Callbacks method `on_train_batch_end` is slow compared to the batch time (batch time: 0.0031s vs `on_train_batch_end` time: 0.0127s). Check your callbacks.\n",
      "14/14 [==============================] - 0s 19ms/step - loss: 0.7066 - val_loss: 0.6804\n",
      "Epoch 2/600\n",
      "14/14 [==============================] - 0s 5ms/step - loss: 0.6972 - val_loss: 0.6638\n",
      "Epoch 3/600\n",
      "14/14 [==============================] - 0s 5ms/step - loss: 0.6706 - val_loss: 0.6482\n",
      "Epoch 4/600\n",
      "14/14 [==============================] - 0s 5ms/step - loss: 0.6658 - val_loss: 0.6343\n",
      "Epoch 5/600\n",
      "14/14 [==============================] - 0s 6ms/step - loss: 0.6465 - val_loss: 0.6235\n",
      "Epoch 6/600\n",
      "14/14 [==============================] - 0s 6ms/step - loss: 0.6205 - val_loss: 0.5991\n",
      "Epoch 7/600\n",
      "14/14 [==============================] - 0s 7ms/step - loss: 0.6003 - val_loss: 0.5729\n",
      "Epoch 8/600\n",
      "14/14 [==============================] - 0s 5ms/step - loss: 0.5968 - val_loss: 0.5445\n",
      "Epoch 9/600\n",
      "14/14 [==============================] - 0s 4ms/step - loss: 0.5573 - val_loss: 0.5152\n",
      "Epoch 10/600\n",
      "14/14 [==============================] - 0s 4ms/step - loss: 0.5373 - val_loss: 0.4840\n",
      "Epoch 11/600\n",
      "14/14 [==============================] - 0s 4ms/step - loss: 0.5314 - val_loss: 0.4609\n",
      "Epoch 12/600\n",
      "14/14 [==============================] - 0s 4ms/step - loss: 0.4931 - val_loss: 0.4314\n",
      "Epoch 13/600\n",
      "14/14 [==============================] - 0s 4ms/step - loss: 0.5076 - val_loss: 0.4037\n",
      "Epoch 14/600\n",
      "14/14 [==============================] - 0s 4ms/step - loss: 0.4635 - val_loss: 0.3748\n",
      "Epoch 15/600\n",
      "14/14 [==============================] - 0s 4ms/step - loss: 0.4398 - val_loss: 0.3524\n",
      "Epoch 16/600\n",
      "14/14 [==============================] - 0s 4ms/step - loss: 0.4185 - val_loss: 0.3357\n",
      "Epoch 17/600\n",
      "14/14 [==============================] - 0s 4ms/step - loss: 0.3800 - val_loss: 0.3096\n",
      "Epoch 18/600\n",
      "14/14 [==============================] - 0s 4ms/step - loss: 0.3906 - val_loss: 0.2963\n",
      "Epoch 19/600\n",
      "14/14 [==============================] - 0s 5ms/step - loss: 0.3813 - val_loss: 0.2793\n",
      "Epoch 20/600\n",
      "14/14 [==============================] - 0s 5ms/step - loss: 0.3526 - val_loss: 0.2582\n",
      "Epoch 21/600\n",
      "14/14 [==============================] - 0s 5ms/step - loss: 0.3385 - val_loss: 0.2420\n",
      "Epoch 22/600\n",
      "14/14 [==============================] - 0s 5ms/step - loss: 0.3210 - val_loss: 0.2346\n",
      "Epoch 23/600\n",
      "14/14 [==============================] - 0s 5ms/step - loss: 0.3275 - val_loss: 0.2208\n",
      "Epoch 24/600\n",
      "14/14 [==============================] - 0s 4ms/step - loss: 0.3067 - val_loss: 0.2190\n",
      "Epoch 25/600\n",
      "14/14 [==============================] - 0s 4ms/step - loss: 0.3197 - val_loss: 0.2061\n",
      "Epoch 26/600\n",
      "14/14 [==============================] - 0s 5ms/step - loss: 0.3311 - val_loss: 0.1976\n",
      "Epoch 27/600\n",
      "14/14 [==============================] - 0s 5ms/step - loss: 0.2713 - val_loss: 0.1896\n",
      "Epoch 28/600\n",
      "14/14 [==============================] - 0s 5ms/step - loss: 0.2407 - val_loss: 0.1794\n",
      "Epoch 29/600\n",
      "14/14 [==============================] - 0s 5ms/step - loss: 0.2692 - val_loss: 0.1756\n",
      "Epoch 30/600\n",
      "14/14 [==============================] - 0s 5ms/step - loss: 0.2373 - val_loss: 0.1716\n",
      "Epoch 31/600\n",
      "14/14 [==============================] - 0s 4ms/step - loss: 0.2639 - val_loss: 0.1647\n",
      "Epoch 32/600\n",
      "14/14 [==============================] - 0s 4ms/step - loss: 0.2770 - val_loss: 0.1614\n",
      "Epoch 33/600\n",
      "14/14 [==============================] - 0s 6ms/step - loss: 0.2411 - val_loss: 0.1559\n",
      "Epoch 34/600\n",
      "14/14 [==============================] - 0s 6ms/step - loss: 0.2296 - val_loss: 0.1598\n",
      "Epoch 35/600\n",
      "14/14 [==============================] - 0s 5ms/step - loss: 0.2227 - val_loss: 0.1523\n",
      "Epoch 36/600\n",
      "14/14 [==============================] - 0s 4ms/step - loss: 0.2244 - val_loss: 0.1409\n",
      "Epoch 37/600\n",
      "14/14 [==============================] - 0s 5ms/step - loss: 0.2385 - val_loss: 0.1454\n",
      "Epoch 38/600\n",
      "14/14 [==============================] - 0s 4ms/step - loss: 0.2262 - val_loss: 0.1463\n",
      "Epoch 39/600\n",
      "14/14 [==============================] - 0s 5ms/step - loss: 0.2049 - val_loss: 0.1409\n",
      "Epoch 40/600\n",
      "14/14 [==============================] - 0s 5ms/step - loss: 0.2033 - val_loss: 0.1379\n",
      "Epoch 41/600\n",
      "14/14 [==============================] - 0s 5ms/step - loss: 0.2232 - val_loss: 0.1338\n",
      "Epoch 42/600\n",
      "14/14 [==============================] - 0s 5ms/step - loss: 0.1967 - val_loss: 0.1339\n",
      "Epoch 43/600\n",
      "14/14 [==============================] - 0s 4ms/step - loss: 0.1977 - val_loss: 0.1271\n",
      "Epoch 44/600\n",
      "14/14 [==============================] - 0s 4ms/step - loss: 0.1805 - val_loss: 0.1246\n",
      "Epoch 45/600\n",
      "14/14 [==============================] - 0s 4ms/step - loss: 0.2043 - val_loss: 0.1271\n",
      "Epoch 46/600\n",
      "14/14 [==============================] - 0s 5ms/step - loss: 0.1881 - val_loss: 0.1297\n",
      "Epoch 47/600\n",
      "14/14 [==============================] - 0s 4ms/step - loss: 0.1874 - val_loss: 0.1283\n",
      "Epoch 48/600\n",
      "14/14 [==============================] - 0s 4ms/step - loss: 0.1829 - val_loss: 0.1207\n",
      "Epoch 49/600\n",
      "14/14 [==============================] - 0s 4ms/step - loss: 0.1865 - val_loss: 0.1168\n",
      "Epoch 50/600\n",
      "14/14 [==============================] - 0s 4ms/step - loss: 0.1769 - val_loss: 0.1192\n",
      "Epoch 51/600\n",
      "14/14 [==============================] - 0s 4ms/step - loss: 0.1690 - val_loss: 0.1201\n",
      "Epoch 52/600\n",
      "14/14 [==============================] - 0s 5ms/step - loss: 0.1516 - val_loss: 0.1176\n",
      "Epoch 53/600\n",
      "14/14 [==============================] - 0s 4ms/step - loss: 0.1706 - val_loss: 0.1222\n",
      "Epoch 54/600\n",
      "14/14 [==============================] - 0s 4ms/step - loss: 0.1487 - val_loss: 0.1153\n",
      "Epoch 55/600\n",
      "14/14 [==============================] - 0s 4ms/step - loss: 0.1707 - val_loss: 0.1114\n",
      "Epoch 56/600\n",
      "14/14 [==============================] - 0s 5ms/step - loss: 0.1693 - val_loss: 0.1145\n",
      "Epoch 57/600\n",
      "14/14 [==============================] - 0s 4ms/step - loss: 0.1660 - val_loss: 0.1161\n",
      "Epoch 58/600\n",
      "14/14 [==============================] - 0s 4ms/step - loss: 0.1573 - val_loss: 0.1170\n",
      "Epoch 59/600\n",
      "14/14 [==============================] - 0s 4ms/step - loss: 0.1842 - val_loss: 0.1146\n",
      "Epoch 60/600\n",
      "14/14 [==============================] - 0s 4ms/step - loss: 0.1524 - val_loss: 0.1101\n",
      "Epoch 61/600\n",
      "14/14 [==============================] - 0s 4ms/step - loss: 0.1544 - val_loss: 0.1098\n",
      "Epoch 62/600\n",
      "14/14 [==============================] - 0s 4ms/step - loss: 0.1483 - val_loss: 0.1118\n",
      "Epoch 63/600\n",
      "14/14 [==============================] - 0s 4ms/step - loss: 0.1540 - val_loss: 0.1115\n",
      "Epoch 64/600\n",
      "14/14 [==============================] - 0s 4ms/step - loss: 0.1550 - val_loss: 0.1054\n",
      "Epoch 65/600\n",
      "14/14 [==============================] - 0s 4ms/step - loss: 0.1648 - val_loss: 0.1111\n",
      "Epoch 66/600\n",
      "14/14 [==============================] - 0s 4ms/step - loss: 0.1281 - val_loss: 0.1089\n",
      "Epoch 67/600\n",
      "14/14 [==============================] - 0s 4ms/step - loss: 0.1214 - val_loss: 0.1074\n",
      "Epoch 68/600\n",
      "14/14 [==============================] - 0s 4ms/step - loss: 0.1298 - val_loss: 0.1084\n",
      "Epoch 69/600\n",
      "14/14 [==============================] - 0s 4ms/step - loss: 0.1510 - val_loss: 0.1045\n",
      "Epoch 70/600\n",
      "14/14 [==============================] - 0s 4ms/step - loss: 0.1303 - val_loss: 0.1078\n",
      "Epoch 71/600\n",
      "14/14 [==============================] - 0s 4ms/step - loss: 0.1119 - val_loss: 0.1092\n",
      "Epoch 72/600\n",
      "14/14 [==============================] - 0s 4ms/step - loss: 0.1164 - val_loss: 0.1068\n",
      "Epoch 73/600\n",
      "14/14 [==============================] - 0s 4ms/step - loss: 0.1172 - val_loss: 0.1017\n",
      "Epoch 74/600\n",
      "14/14 [==============================] - 0s 4ms/step - loss: 0.1204 - val_loss: 0.1109\n",
      "Epoch 75/600\n",
      "14/14 [==============================] - 0s 4ms/step - loss: 0.1161 - val_loss: 0.1039\n",
      "Epoch 76/600\n",
      "14/14 [==============================] - 0s 4ms/step - loss: 0.1061 - val_loss: 0.1014\n",
      "Epoch 77/600\n"
     ]
    },
    {
     "name": "stdout",
     "output_type": "stream",
     "text": [
      "14/14 [==============================] - 0s 4ms/step - loss: 0.1128 - val_loss: 0.1238\n",
      "Epoch 78/600\n",
      "14/14 [==============================] - 0s 4ms/step - loss: 0.1089 - val_loss: 0.1022\n",
      "Epoch 79/600\n",
      "14/14 [==============================] - 0s 4ms/step - loss: 0.1033 - val_loss: 0.0975\n",
      "Epoch 80/600\n",
      "14/14 [==============================] - 0s 4ms/step - loss: 0.1172 - val_loss: 0.1049\n",
      "Epoch 81/600\n",
      "14/14 [==============================] - 0s 4ms/step - loss: 0.1308 - val_loss: 0.1012\n",
      "Epoch 82/600\n",
      "14/14 [==============================] - 0s 4ms/step - loss: 0.1195 - val_loss: 0.0981\n",
      "Epoch 83/600\n",
      "14/14 [==============================] - 0s 4ms/step - loss: 0.1163 - val_loss: 0.1046\n",
      "Epoch 84/600\n",
      "14/14 [==============================] - 0s 5ms/step - loss: 0.1310 - val_loss: 0.1050\n",
      "Epoch 85/600\n",
      "14/14 [==============================] - 0s 4ms/step - loss: 0.1054 - val_loss: 0.1029\n",
      "Epoch 86/600\n",
      "14/14 [==============================] - 0s 4ms/step - loss: 0.1074 - val_loss: 0.0967\n",
      "Epoch 87/600\n",
      "14/14 [==============================] - 0s 4ms/step - loss: 0.1054 - val_loss: 0.0980\n",
      "Epoch 88/600\n",
      "14/14 [==============================] - 0s 4ms/step - loss: 0.1111 - val_loss: 0.1005\n",
      "Epoch 89/600\n",
      "14/14 [==============================] - 0s 4ms/step - loss: 0.0947 - val_loss: 0.0959\n",
      "Epoch 90/600\n",
      "14/14 [==============================] - 0s 4ms/step - loss: 0.1471 - val_loss: 0.0982\n",
      "Epoch 91/600\n",
      "14/14 [==============================] - 0s 4ms/step - loss: 0.1192 - val_loss: 0.1000\n",
      "Epoch 92/600\n",
      "14/14 [==============================] - 0s 4ms/step - loss: 0.1162 - val_loss: 0.1102\n",
      "Epoch 93/600\n",
      "14/14 [==============================] - 0s 4ms/step - loss: 0.0831 - val_loss: 0.1092\n",
      "Epoch 94/600\n",
      "14/14 [==============================] - 0s 4ms/step - loss: 0.1282 - val_loss: 0.0973\n",
      "Epoch 95/600\n",
      "14/14 [==============================] - 0s 4ms/step - loss: 0.1072 - val_loss: 0.1049\n",
      "Epoch 96/600\n",
      "14/14 [==============================] - 0s 4ms/step - loss: 0.0926 - val_loss: 0.0970\n",
      "Epoch 97/600\n",
      "14/14 [==============================] - 0s 4ms/step - loss: 0.1238 - val_loss: 0.0979\n",
      "Epoch 98/600\n",
      "14/14 [==============================] - 0s 4ms/step - loss: 0.0990 - val_loss: 0.1091\n",
      "Epoch 99/600\n",
      "14/14 [==============================] - 0s 4ms/step - loss: 0.1041 - val_loss: 0.0989\n",
      "Epoch 100/600\n",
      "14/14 [==============================] - 0s 4ms/step - loss: 0.1013 - val_loss: 0.0994\n",
      "Epoch 101/600\n",
      "14/14 [==============================] - 0s 4ms/step - loss: 0.1465 - val_loss: 0.0994\n",
      "Epoch 102/600\n",
      "14/14 [==============================] - 0s 4ms/step - loss: 0.1102 - val_loss: 0.1032\n",
      "Epoch 103/600\n",
      "14/14 [==============================] - 0s 4ms/step - loss: 0.0887 - val_loss: 0.0992\n",
      "Epoch 104/600\n",
      "14/14 [==============================] - 0s 4ms/step - loss: 0.1226 - val_loss: 0.0955\n",
      "Epoch 105/600\n",
      "14/14 [==============================] - 0s 5ms/step - loss: 0.0970 - val_loss: 0.1056\n",
      "Epoch 106/600\n",
      "14/14 [==============================] - 0s 4ms/step - loss: 0.0945 - val_loss: 0.1101\n",
      "Epoch 107/600\n",
      "14/14 [==============================] - 0s 4ms/step - loss: 0.0750 - val_loss: 0.1164\n",
      "Epoch 108/600\n",
      "14/14 [==============================] - 0s 4ms/step - loss: 0.0985 - val_loss: 0.0961\n",
      "Epoch 109/600\n",
      "14/14 [==============================] - 0s 4ms/step - loss: 0.1182 - val_loss: 0.1082\n",
      "Epoch 110/600\n",
      "14/14 [==============================] - 0s 4ms/step - loss: 0.0818 - val_loss: 0.1191\n",
      "Epoch 111/600\n",
      "14/14 [==============================] - 0s 4ms/step - loss: 0.0833 - val_loss: 0.1155\n",
      "Epoch 112/600\n",
      "14/14 [==============================] - 0s 4ms/step - loss: 0.0919 - val_loss: 0.1051\n",
      "Epoch 113/600\n",
      "14/14 [==============================] - 0s 4ms/step - loss: 0.1125 - val_loss: 0.0989\n",
      "Epoch 114/600\n",
      "14/14 [==============================] - 0s 4ms/step - loss: 0.1034 - val_loss: 0.1024\n",
      "Epoch 115/600\n",
      "14/14 [==============================] - 0s 4ms/step - loss: 0.0827 - val_loss: 0.0986\n",
      "Epoch 116/600\n",
      "14/14 [==============================] - 0s 4ms/step - loss: 0.0988 - val_loss: 0.0970\n",
      "Epoch 117/600\n",
      "14/14 [==============================] - 0s 4ms/step - loss: 0.0786 - val_loss: 0.0955\n",
      "Epoch 118/600\n",
      "14/14 [==============================] - 0s 4ms/step - loss: 0.0815 - val_loss: 0.1097\n",
      "Epoch 119/600\n",
      "14/14 [==============================] - 0s 4ms/step - loss: 0.0931 - val_loss: 0.1049\n",
      "Epoch 120/600\n",
      "14/14 [==============================] - 0s 4ms/step - loss: 0.0986 - val_loss: 0.1047\n",
      "Epoch 121/600\n",
      "14/14 [==============================] - 0s 4ms/step - loss: 0.0946 - val_loss: 0.1011\n",
      "Epoch 122/600\n",
      "14/14 [==============================] - 0s 4ms/step - loss: 0.0915 - val_loss: 0.1021\n",
      "Epoch 123/600\n",
      "14/14 [==============================] - 0s 4ms/step - loss: 0.1020 - val_loss: 0.0992\n",
      "Epoch 124/600\n",
      "14/14 [==============================] - 0s 4ms/step - loss: 0.0964 - val_loss: 0.1016\n",
      "Epoch 125/600\n",
      "14/14 [==============================] - 0s 4ms/step - loss: 0.0707 - val_loss: 0.0996\n",
      "Epoch 126/600\n",
      "14/14 [==============================] - 0s 4ms/step - loss: 0.0861 - val_loss: 0.0982\n",
      "Epoch 127/600\n",
      "14/14 [==============================] - 0s 4ms/step - loss: 0.0848 - val_loss: 0.0960\n",
      "Epoch 128/600\n",
      "14/14 [==============================] - 0s 4ms/step - loss: 0.0952 - val_loss: 0.0972\n",
      "Epoch 129/600\n",
      "14/14 [==============================] - 0s 4ms/step - loss: 0.1009 - val_loss: 0.1007\n",
      "Epoch 130/600\n",
      "14/14 [==============================] - 0s 4ms/step - loss: 0.1122 - val_loss: 0.0926\n",
      "Epoch 131/600\n",
      "14/14 [==============================] - 0s 4ms/step - loss: 0.0827 - val_loss: 0.0999\n",
      "Epoch 132/600\n",
      "14/14 [==============================] - 0s 4ms/step - loss: 0.0774 - val_loss: 0.1002\n",
      "Epoch 133/600\n",
      "14/14 [==============================] - 0s 4ms/step - loss: 0.0830 - val_loss: 0.1125\n",
      "Epoch 134/600\n",
      "14/14 [==============================] - 0s 4ms/step - loss: 0.0921 - val_loss: 0.1022\n",
      "Epoch 135/600\n",
      "14/14 [==============================] - 0s 4ms/step - loss: 0.0804 - val_loss: 0.1037\n",
      "Epoch 136/600\n",
      "14/14 [==============================] - 0s 4ms/step - loss: 0.0899 - val_loss: 0.0957\n",
      "Epoch 137/600\n",
      "14/14 [==============================] - 0s 4ms/step - loss: 0.0860 - val_loss: 0.1014\n",
      "Epoch 138/600\n",
      "14/14 [==============================] - 0s 4ms/step - loss: 0.1004 - val_loss: 0.1020\n",
      "Epoch 139/600\n",
      "14/14 [==============================] - 0s 4ms/step - loss: 0.0723 - val_loss: 0.0994\n",
      "Epoch 140/600\n",
      "14/14 [==============================] - 0s 4ms/step - loss: 0.0854 - val_loss: 0.0989\n",
      "Epoch 141/600\n",
      "14/14 [==============================] - 0s 4ms/step - loss: 0.0785 - val_loss: 0.0992\n",
      "Epoch 142/600\n",
      "14/14 [==============================] - 0s 4ms/step - loss: 0.0865 - val_loss: 0.0925\n",
      "Epoch 143/600\n",
      "14/14 [==============================] - 0s 4ms/step - loss: 0.1042 - val_loss: 0.0931\n",
      "Epoch 144/600\n",
      "14/14 [==============================] - 0s 4ms/step - loss: 0.0843 - val_loss: 0.1017\n",
      "Epoch 145/600\n",
      "14/14 [==============================] - 0s 4ms/step - loss: 0.0904 - val_loss: 0.1173\n",
      "Epoch 146/600\n",
      "14/14 [==============================] - 0s 4ms/step - loss: 0.1044 - val_loss: 0.0933\n",
      "Epoch 147/600\n",
      "14/14 [==============================] - 0s 4ms/step - loss: 0.0838 - val_loss: 0.1129\n",
      "Epoch 148/600\n",
      "14/14 [==============================] - 0s 4ms/step - loss: 0.0828 - val_loss: 0.1012\n",
      "Epoch 149/600\n",
      "14/14 [==============================] - 0s 4ms/step - loss: 0.0745 - val_loss: 0.1010\n",
      "Epoch 150/600\n",
      "14/14 [==============================] - 0s 4ms/step - loss: 0.0987 - val_loss: 0.0985\n",
      "Epoch 151/600\n",
      "14/14 [==============================] - 0s 4ms/step - loss: 0.0631 - val_loss: 0.0968\n",
      "Epoch 152/600\n",
      "14/14 [==============================] - 0s 4ms/step - loss: 0.0867 - val_loss: 0.0963\n",
      "Epoch 153/600\n",
      "14/14 [==============================] - 0s 4ms/step - loss: 0.0665 - val_loss: 0.0995\n",
      "Epoch 154/600\n",
      "14/14 [==============================] - 0s 4ms/step - loss: 0.0893 - val_loss: 0.1018\n",
      "Epoch 155/600\n",
      "14/14 [==============================] - 0s 4ms/step - loss: 0.0729 - val_loss: 0.1019\n",
      "Epoch 156/600\n",
      "14/14 [==============================] - 0s 4ms/step - loss: 0.0574 - val_loss: 0.1120\n",
      "Epoch 157/600\n",
      "14/14 [==============================] - 0s 4ms/step - loss: 0.0682 - val_loss: 0.1016\n",
      "Epoch 158/600\n"
     ]
    },
    {
     "name": "stdout",
     "output_type": "stream",
     "text": [
      "14/14 [==============================] - 0s 4ms/step - loss: 0.0759 - val_loss: 0.1008\n",
      "Epoch 159/600\n",
      "14/14 [==============================] - 0s 4ms/step - loss: 0.0966 - val_loss: 0.1030\n",
      "Epoch 160/600\n",
      "14/14 [==============================] - 0s 4ms/step - loss: 0.0743 - val_loss: 0.0992\n",
      "Epoch 161/600\n",
      "14/14 [==============================] - 0s 4ms/step - loss: 0.0624 - val_loss: 0.1027\n",
      "Epoch 162/600\n",
      "14/14 [==============================] - 0s 4ms/step - loss: 0.0747 - val_loss: 0.0979\n",
      "Epoch 163/600\n",
      "14/14 [==============================] - 0s 4ms/step - loss: 0.0813 - val_loss: 0.1057\n",
      "Epoch 164/600\n",
      "14/14 [==============================] - 0s 4ms/step - loss: 0.0673 - val_loss: 0.0899\n",
      "Epoch 165/600\n",
      "14/14 [==============================] - 0s 4ms/step - loss: 0.0719 - val_loss: 0.0931\n",
      "Epoch 166/600\n",
      "14/14 [==============================] - 0s 4ms/step - loss: 0.0816 - val_loss: 0.1032\n",
      "Epoch 167/600\n",
      "14/14 [==============================] - 0s 4ms/step - loss: 0.0825 - val_loss: 0.1124\n",
      "Epoch 168/600\n",
      "14/14 [==============================] - 0s 4ms/step - loss: 0.0707 - val_loss: 0.0909\n",
      "Epoch 169/600\n",
      "14/14 [==============================] - 0s 4ms/step - loss: 0.0834 - val_loss: 0.0913\n",
      "Epoch 170/600\n",
      "14/14 [==============================] - 0s 4ms/step - loss: 0.0875 - val_loss: 0.0898\n",
      "Epoch 171/600\n",
      "14/14 [==============================] - 0s 4ms/step - loss: 0.0711 - val_loss: 0.1102\n",
      "Epoch 172/600\n",
      "14/14 [==============================] - 0s 4ms/step - loss: 0.1012 - val_loss: 0.1358\n",
      "Epoch 173/600\n",
      "14/14 [==============================] - 0s 4ms/step - loss: 0.0567 - val_loss: 0.1036\n",
      "Epoch 174/600\n",
      "14/14 [==============================] - 0s 4ms/step - loss: 0.0857 - val_loss: 0.0971\n",
      "Epoch 175/600\n",
      "14/14 [==============================] - 0s 4ms/step - loss: 0.0644 - val_loss: 0.0986\n",
      "Epoch 176/600\n",
      "14/14 [==============================] - 0s 4ms/step - loss: 0.0652 - val_loss: 0.0983\n",
      "Epoch 177/600\n",
      "14/14 [==============================] - 0s 4ms/step - loss: 0.0814 - val_loss: 0.0997\n",
      "Epoch 178/600\n",
      "14/14 [==============================] - 0s 4ms/step - loss: 0.0657 - val_loss: 0.0898\n",
      "Epoch 179/600\n",
      "14/14 [==============================] - 0s 4ms/step - loss: 0.0911 - val_loss: 0.0952\n",
      "Epoch 180/600\n",
      "14/14 [==============================] - 0s 4ms/step - loss: 0.0630 - val_loss: 0.0973\n",
      "Epoch 181/600\n",
      "14/14 [==============================] - 0s 4ms/step - loss: 0.0952 - val_loss: 0.1069\n",
      "Epoch 182/600\n",
      "14/14 [==============================] - 0s 4ms/step - loss: 0.0585 - val_loss: 0.1038\n",
      "Epoch 183/600\n",
      "14/14 [==============================] - 0s 4ms/step - loss: 0.0707 - val_loss: 0.0952\n",
      "Epoch 184/600\n",
      "14/14 [==============================] - 0s 4ms/step - loss: 0.0874 - val_loss: 0.0989\n",
      "Epoch 185/600\n",
      "14/14 [==============================] - 0s 4ms/step - loss: 0.0819 - val_loss: 0.1042\n",
      "Epoch 186/600\n",
      "14/14 [==============================] - 0s 4ms/step - loss: 0.0779 - val_loss: 0.0928\n",
      "Epoch 187/600\n",
      "14/14 [==============================] - 0s 4ms/step - loss: 0.0714 - val_loss: 0.0962\n",
      "Epoch 188/600\n",
      "14/14 [==============================] - 0s 4ms/step - loss: 0.0784 - val_loss: 0.1024\n",
      "Epoch 189/600\n",
      "14/14 [==============================] - 0s 4ms/step - loss: 0.0693 - val_loss: 0.0907\n",
      "Epoch 190/600\n",
      "14/14 [==============================] - 0s 4ms/step - loss: 0.0622 - val_loss: 0.0931\n",
      "Epoch 191/600\n",
      "14/14 [==============================] - 0s 4ms/step - loss: 0.0705 - val_loss: 0.1172\n",
      "Epoch 192/600\n",
      "14/14 [==============================] - 0s 4ms/step - loss: 0.0812 - val_loss: 0.1166\n",
      "Epoch 193/600\n",
      "14/14 [==============================] - 0s 4ms/step - loss: 0.0951 - val_loss: 0.0951\n",
      "Epoch 194/600\n",
      "14/14 [==============================] - 0s 4ms/step - loss: 0.0746 - val_loss: 0.0934\n",
      "Epoch 195/600\n",
      "14/14 [==============================] - 0s 4ms/step - loss: 0.0743 - val_loss: 0.1068\n",
      "Epoch 196/600\n",
      "14/14 [==============================] - 0s 4ms/step - loss: 0.0710 - val_loss: 0.1079\n",
      "Epoch 197/600\n",
      "14/14 [==============================] - 0s 4ms/step - loss: 0.0846 - val_loss: 0.1034\n",
      "Epoch 198/600\n",
      "14/14 [==============================] - 0s 4ms/step - loss: 0.0751 - val_loss: 0.1041\n",
      "Epoch 199/600\n",
      "14/14 [==============================] - 0s 5ms/step - loss: 0.0742 - val_loss: 0.0941\n",
      "Epoch 200/600\n",
      "14/14 [==============================] - 0s 4ms/step - loss: 0.0773 - val_loss: 0.0976\n",
      "Epoch 201/600\n",
      "14/14 [==============================] - 0s 4ms/step - loss: 0.0564 - val_loss: 0.1036\n",
      "Epoch 202/600\n",
      "14/14 [==============================] - 0s 4ms/step - loss: 0.0808 - val_loss: 0.1022\n",
      "Epoch 203/600\n",
      "14/14 [==============================] - 0s 4ms/step - loss: 0.0696 - val_loss: 0.0905\n",
      "Epoch 00203: early stopping\n"
     ]
    },
    {
     "data": {
      "text/plain": [
       "<tensorflow.python.keras.callbacks.History at 0x7f47f8222070>"
      ]
     },
     "execution_count": 18,
     "metadata": {},
     "output_type": "execute_result"
    }
   ],
   "source": [
    "model.fit(x=X_train, \n",
    "          y=y_train, \n",
    "          epochs=600,\n",
    "          validation_data=(X_test, y_test), verbose=1,\n",
    "          callbacks=[early_stop,board]\n",
    "          )"
   ]
  },
  {
   "cell_type": "markdown",
   "metadata": {},
   "source": [
    "# Running Tensorboard\n"
   ]
  },
  {
   "cell_type": "markdown",
   "metadata": {},
   "source": [
    "## Running through the Command Line\n",
    "\n",
    "**Watch video to see how to run Tensorboard through a command line call.**"
   ]
  },
  {
   "cell_type": "markdown",
   "metadata": {},
   "source": [
    "Tensorboard will run locally in your browser at [http://localhost:6006/](http://localhost:6006/)\n"
   ]
  },
  {
   "cell_type": "code",
   "execution_count": 19,
   "metadata": {},
   "outputs": [
    {
     "name": "stdout",
     "output_type": "stream",
     "text": [
      "logs/fit\n"
     ]
    }
   ],
   "source": [
    "print(log_directory)"
   ]
  },
  {
   "cell_type": "code",
   "execution_count": 20,
   "metadata": {},
   "outputs": [
    {
     "data": {
      "text/plain": [
       "'/home/gary/workspace/Python/jupyter/Python-Data-Science-Tutorial/Deep Learning'"
      ]
     },
     "execution_count": 20,
     "metadata": {},
     "output_type": "execute_result"
    }
   ],
   "source": [
    "pwd"
   ]
  },
  {
   "cell_type": "markdown",
   "metadata": {},
   "source": [
    "### Use cd at your command line to change directory to the file path reported back by pwd or your current .py file location.\n",
    "### Then run this code at your command line or terminal"
   ]
  },
  {
   "cell_type": "code",
   "execution_count": 21,
   "metadata": {},
   "outputs": [
    {
     "data": {
      "text/html": [
       "\n",
       "      <iframe id=\"tensorboard-frame-bf636f0d7c978f20\" width=\"100%\" height=\"800\" frameborder=\"0\">\n",
       "      </iframe>\n",
       "      <script>\n",
       "        (function() {\n",
       "          const frame = document.getElementById(\"tensorboard-frame-bf636f0d7c978f20\");\n",
       "          const url = new URL(\"/\", window.location);\n",
       "          const port = 6006;\n",
       "          if (port) {\n",
       "            url.port = port;\n",
       "          }\n",
       "          frame.src = url;\n",
       "        })();\n",
       "      </script>\n",
       "    "
      ],
      "text/plain": [
       "<IPython.core.display.HTML object>"
      ]
     },
     "metadata": {},
     "output_type": "display_data"
    }
   ],
   "source": [
    "tensorboard --logdir logs/fit"
   ]
  }
 ],
 "metadata": {
  "kernelspec": {
   "display_name": "Python 3",
   "language": "python",
   "name": "python3"
  },
  "language_info": {
   "codemirror_mode": {
    "name": "ipython",
    "version": 3
   },
   "file_extension": ".py",
   "mimetype": "text/x-python",
   "name": "python",
   "nbconvert_exporter": "python",
   "pygments_lexer": "ipython3",
   "version": "3.8.6"
  },
  "latex_envs": {
   "LaTeX_envs_menu_present": true,
   "autoclose": false,
   "autocomplete": true,
   "bibliofile": "biblio.bib",
   "cite_by": "apalike",
   "current_citInitial": 1,
   "eqLabelWithNumbers": true,
   "eqNumInitial": 1,
   "hotkeys": {
    "equation": "Ctrl-E",
    "itemize": "Ctrl-I"
   },
   "labels_anchors": false,
   "latex_user_defs": false,
   "report_style_numbering": true,
   "user_envs_cfg": false
  }
 },
 "nbformat": 4,
 "nbformat_minor": 2
}
