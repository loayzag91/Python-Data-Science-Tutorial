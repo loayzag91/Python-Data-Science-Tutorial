{
 "cells": [
  {
   "cell_type": "code",
   "execution_count": 1,
   "metadata": {},
   "outputs": [],
   "source": [
    "from sklearn.datasets import load_boston\n",
    "import pandas as pd\n",
    "import numpy as np\n",
    "\n",
    "import matplotlib.pyplot as plt\n",
    "import seaborn as sns\n",
    "%matplotlib inline\n",
    "plt.style.use('ggplot')"
   ]
  },
  {
   "cell_type": "code",
   "execution_count": 2,
   "metadata": {},
   "outputs": [
    {
     "name": "stdout",
     "output_type": "stream",
     "text": [
      ".. _boston_dataset:\n",
      "\n",
      "Boston house prices dataset\n",
      "---------------------------\n",
      "\n",
      "**Data Set Characteristics:**  \n",
      "\n",
      "    :Number of Instances: 506 \n",
      "\n",
      "    :Number of Attributes: 13 numeric/categorical predictive. Median Value (attribute 14) is usually the target.\n",
      "\n",
      "    :Attribute Information (in order):\n",
      "        - CRIM     per capita crime rate by town\n",
      "        - ZN       proportion of residential land zoned for lots over 25,000 sq.ft.\n",
      "        - INDUS    proportion of non-retail business acres per town\n",
      "        - CHAS     Charles River dummy variable (= 1 if tract bounds river; 0 otherwise)\n",
      "        - NOX      nitric oxides concentration (parts per 10 million)\n",
      "        - RM       average number of rooms per dwelling\n",
      "        - AGE      proportion of owner-occupied units built prior to 1940\n",
      "        - DIS      weighted distances to five Boston employment centres\n",
      "        - RAD      index of accessibility to radial highways\n",
      "        - TAX      full-value property-tax rate per $10,000\n",
      "        - PTRATIO  pupil-teacher ratio by town\n",
      "        - B        1000(Bk - 0.63)^2 where Bk is the proportion of blacks by town\n",
      "        - LSTAT    % lower status of the population\n",
      "        - MEDV     Median value of owner-occupied homes in $1000's\n",
      "\n",
      "    :Missing Attribute Values: None\n",
      "\n",
      "    :Creator: Harrison, D. and Rubinfeld, D.L.\n",
      "\n",
      "This is a copy of UCI ML housing dataset.\n",
      "https://archive.ics.uci.edu/ml/machine-learning-databases/housing/\n",
      "\n",
      "\n",
      "This dataset was taken from the StatLib library which is maintained at Carnegie Mellon University.\n",
      "\n",
      "The Boston house-price data of Harrison, D. and Rubinfeld, D.L. 'Hedonic\n",
      "prices and the demand for clean air', J. Environ. Economics & Management,\n",
      "vol.5, 81-102, 1978.   Used in Belsley, Kuh & Welsch, 'Regression diagnostics\n",
      "...', Wiley, 1980.   N.B. Various transformations are used in the table on\n",
      "pages 244-261 of the latter.\n",
      "\n",
      "The Boston house-price data has been used in many machine learning papers that address regression\n",
      "problems.   \n",
      "     \n",
      ".. topic:: References\n",
      "\n",
      "   - Belsley, Kuh & Welsch, 'Regression diagnostics: Identifying Influential Data and Sources of Collinearity', Wiley, 1980. 244-261.\n",
      "   - Quinlan,R. (1993). Combining Instance-Based and Model-Based Learning. In Proceedings on the Tenth International Conference of Machine Learning, 236-243, University of Massachusetts, Amherst. Morgan Kaufmann.\n",
      "\n"
     ]
    }
   ],
   "source": [
    "boston = load_boston()\n",
    "boston_df = pd.DataFrame(data=boston['data'], columns=boston['feature_names'])\n",
    "\n",
    "boston_df['MEDV'] = boston['target']\n",
    "print(boston['DESCR'])"
   ]
  },
  {
   "cell_type": "markdown",
   "metadata": {},
   "source": [
    "---\n",
    "# Best Subset Selection"
   ]
  },
  {
   "cell_type": "markdown",
   "metadata": {},
   "source": [
    "This time around, we would like to use the *best subset selection* algorithm to determine the predictors.\n",
    "\n",
    "Let's start by writing a helper function for fitting the linear regression which we can then use as part of a loop."
   ]
  },
  {
   "cell_type": "code",
   "execution_count": 3,
   "metadata": {},
   "outputs": [],
   "source": [
    "from sklearn.linear_model import LinearRegression\n",
    "from sklearn.metrics import mean_squared_error"
   ]
  },
  {
   "cell_type": "code",
   "execution_count": 4,
   "metadata": {},
   "outputs": [],
   "source": [
    "def fit_linear_reg(X,Y):\n",
    "    #Fit linear regression model and return RSS and R squared values\n",
    "    model_k = LinearRegression(fit_intercept = True)\n",
    "    model_k.fit(X,Y)\n",
    "    RSS = mean_squared_error(Y,model_k.predict(X)) * len(Y)\n",
    "    R_squared = model_k.score(X,Y)\n",
    "    return RSS, R_squared"
   ]
  },
  {
   "cell_type": "markdown",
   "metadata": {},
   "source": [
    "Now we will write the algorithm associated with **best subset selection**"
   ]
  },
  {
   "cell_type": "code",
   "execution_count": 5,
   "metadata": {},
   "outputs": [],
   "source": [
    "import itertools\n",
    "import time"
   ]
  },
  {
   "cell_type": "code",
   "execution_count": 6,
   "metadata": {
    "code_folding": []
   },
   "outputs": [
    {
     "name": "stdout",
     "output_type": "stream",
     "text": [
      "Best Subset Selection Runtime: 57.7433 seconds\n"
     ]
    }
   ],
   "source": [
    "#Initialization variables\n",
    "Y = boston_df['MEDV']\n",
    "X = boston_df.drop('MEDV', axis=1)\n",
    "k = 13\n",
    "RSS_list, R_squared_list, feature_list = [],[],[]\n",
    "numb_features = []\n",
    "\n",
    "#Looping over k = 1 to k = 13 features in X\n",
    "start = time.perf_counter()\n",
    "for k in range(1,len(X.columns) + 1):\n",
    "    \n",
    "    #Looping over all possible combinations: from 13 choose k\n",
    "    for combo in itertools.combinations(X.columns,k):\n",
    "        tmp_result = fit_linear_reg(X[list(combo)],Y)   #Store temp result \n",
    "        RSS_list.append(tmp_result[0])                  #Append lists\n",
    "        R_squared_list.append(tmp_result[1])\n",
    "        feature_list.append(combo)\n",
    "        numb_features.append(len(combo))\n",
    "\n",
    "#Store in DataFrame\n",
    "df = pd.DataFrame({'numb_features': numb_features,'RSS': RSS_list,\n",
    "                   'R_squared':R_squared_list,'features':feature_list})\n",
    "\n",
    "end = time.perf_counter()\n",
    "print(f\"Best Subset Selection Runtime: {end - start:0.4f} seconds\")"
   ]
  },
  {
   "cell_type": "markdown",
   "metadata": {},
   "source": [
    "---"
   ]
  },
  {
   "cell_type": "markdown",
   "metadata": {},
   "source": [
    "### Finding the best subsets for each number of features\n",
    "Using the smallest RSS value or the largest $R^2$ value, identify the top 5 features from this dataset."
   ]
  },
  {
   "cell_type": "code",
   "execution_count": 7,
   "metadata": {},
   "outputs": [
    {
     "data": {
      "text/html": [
       "<div>\n",
       "<style scoped>\n",
       "    .dataframe tbody tr th:only-of-type {\n",
       "        vertical-align: middle;\n",
       "    }\n",
       "\n",
       "    .dataframe tbody tr th {\n",
       "        vertical-align: top;\n",
       "    }\n",
       "\n",
       "    .dataframe thead th {\n",
       "        text-align: right;\n",
       "    }\n",
       "</style>\n",
       "<table border=\"1\" class=\"dataframe\">\n",
       "  <thead>\n",
       "    <tr style=\"text-align: right;\">\n",
       "      <th></th>\n",
       "      <th>numb_features</th>\n",
       "      <th>RSS</th>\n",
       "      <th>R_squared</th>\n",
       "      <th>features</th>\n",
       "    </tr>\n",
       "  </thead>\n",
       "  <tbody>\n",
       "    <tr>\n",
       "      <th>12</th>\n",
       "      <td>1</td>\n",
       "      <td>19472.381418</td>\n",
       "      <td>0.544146</td>\n",
       "      <td>(LSTAT,)</td>\n",
       "    </tr>\n",
       "    <tr>\n",
       "      <th>69</th>\n",
       "      <td>2</td>\n",
       "      <td>15439.309201</td>\n",
       "      <td>0.638562</td>\n",
       "      <td>(RM, LSTAT)</td>\n",
       "    </tr>\n",
       "    <tr>\n",
       "      <th>340</th>\n",
       "      <td>3</td>\n",
       "      <td>13727.985314</td>\n",
       "      <td>0.678624</td>\n",
       "      <td>(RM, PTRATIO, LSTAT)</td>\n",
       "    </tr>\n",
       "    <tr>\n",
       "      <th>1045</th>\n",
       "      <td>4</td>\n",
       "      <td>13228.907703</td>\n",
       "      <td>0.690308</td>\n",
       "      <td>(RM, DIS, PTRATIO, LSTAT)</td>\n",
       "    </tr>\n",
       "    <tr>\n",
       "      <th>2276</th>\n",
       "      <td>5</td>\n",
       "      <td>12469.344151</td>\n",
       "      <td>0.708089</td>\n",
       "      <td>(NOX, RM, DIS, PTRATIO, LSTAT)</td>\n",
       "    </tr>\n",
       "  </tbody>\n",
       "</table>\n",
       "</div>"
      ],
      "text/plain": [
       "      numb_features           RSS  R_squared                        features\n",
       "12                1  19472.381418   0.544146                        (LSTAT,)\n",
       "69                2  15439.309201   0.638562                     (RM, LSTAT)\n",
       "340               3  13727.985314   0.678624            (RM, PTRATIO, LSTAT)\n",
       "1045              4  13228.907703   0.690308       (RM, DIS, PTRATIO, LSTAT)\n",
       "2276              5  12469.344151   0.708089  (NOX, RM, DIS, PTRATIO, LSTAT)"
      ]
     },
     "metadata": {},
     "output_type": "display_data"
    },
    {
     "data": {
      "text/html": [
       "<div>\n",
       "<style scoped>\n",
       "    .dataframe tbody tr th:only-of-type {\n",
       "        vertical-align: middle;\n",
       "    }\n",
       "\n",
       "    .dataframe tbody tr th {\n",
       "        vertical-align: top;\n",
       "    }\n",
       "\n",
       "    .dataframe thead th {\n",
       "        text-align: right;\n",
       "    }\n",
       "</style>\n",
       "<table border=\"1\" class=\"dataframe\">\n",
       "  <thead>\n",
       "    <tr style=\"text-align: right;\">\n",
       "      <th></th>\n",
       "      <th>numb_features</th>\n",
       "      <th>RSS</th>\n",
       "      <th>R_squared</th>\n",
       "      <th>features</th>\n",
       "    </tr>\n",
       "  </thead>\n",
       "  <tbody>\n",
       "    <tr>\n",
       "      <th>12</th>\n",
       "      <td>1</td>\n",
       "      <td>19472.381418</td>\n",
       "      <td>0.544146</td>\n",
       "      <td>(LSTAT,)</td>\n",
       "    </tr>\n",
       "    <tr>\n",
       "      <th>69</th>\n",
       "      <td>2</td>\n",
       "      <td>15439.309201</td>\n",
       "      <td>0.638562</td>\n",
       "      <td>(RM, LSTAT)</td>\n",
       "    </tr>\n",
       "    <tr>\n",
       "      <th>340</th>\n",
       "      <td>3</td>\n",
       "      <td>13727.985314</td>\n",
       "      <td>0.678624</td>\n",
       "      <td>(RM, PTRATIO, LSTAT)</td>\n",
       "    </tr>\n",
       "    <tr>\n",
       "      <th>1045</th>\n",
       "      <td>4</td>\n",
       "      <td>13228.907703</td>\n",
       "      <td>0.690308</td>\n",
       "      <td>(RM, DIS, PTRATIO, LSTAT)</td>\n",
       "    </tr>\n",
       "    <tr>\n",
       "      <th>2276</th>\n",
       "      <td>5</td>\n",
       "      <td>12469.344151</td>\n",
       "      <td>0.708089</td>\n",
       "      <td>(NOX, RM, DIS, PTRATIO, LSTAT)</td>\n",
       "    </tr>\n",
       "  </tbody>\n",
       "</table>\n",
       "</div>"
      ],
      "text/plain": [
       "      numb_features           RSS  R_squared                        features\n",
       "12                1  19472.381418   0.544146                        (LSTAT,)\n",
       "69                2  15439.309201   0.638562                     (RM, LSTAT)\n",
       "340               3  13727.985314   0.678624            (RM, PTRATIO, LSTAT)\n",
       "1045              4  13228.907703   0.690308       (RM, DIS, PTRATIO, LSTAT)\n",
       "2276              5  12469.344151   0.708089  (NOX, RM, DIS, PTRATIO, LSTAT)"
      ]
     },
     "metadata": {},
     "output_type": "display_data"
    }
   ],
   "source": [
    "df_min = df[df.groupby('numb_features')['RSS'].transform(min) == df['RSS']]\n",
    "df_max = df[df.groupby('numb_features')['R_squared'].transform(max) == df['R_squared']]\n",
    "display(df_min.head(5))\n",
    "display(df_max.head(5))"
   ]
  },
  {
   "cell_type": "markdown",
   "metadata": {},
   "source": [
    "---"
   ]
  },
  {
   "cell_type": "markdown",
   "metadata": {},
   "source": [
    "### Adding columns to the dataframe with RSS and $R^2$ values of the best subset"
   ]
  },
  {
   "cell_type": "code",
   "execution_count": 8,
   "metadata": {
    "scrolled": true
   },
   "outputs": [
    {
     "data": {
      "text/html": [
       "<div>\n",
       "<style scoped>\n",
       "    .dataframe tbody tr th:only-of-type {\n",
       "        vertical-align: middle;\n",
       "    }\n",
       "\n",
       "    .dataframe tbody tr th {\n",
       "        vertical-align: top;\n",
       "    }\n",
       "\n",
       "    .dataframe thead th {\n",
       "        text-align: right;\n",
       "    }\n",
       "</style>\n",
       "<table border=\"1\" class=\"dataframe\">\n",
       "  <thead>\n",
       "    <tr style=\"text-align: right;\">\n",
       "      <th></th>\n",
       "      <th>numb_features</th>\n",
       "      <th>RSS</th>\n",
       "      <th>R_squared</th>\n",
       "      <th>features</th>\n",
       "      <th>min_RSS</th>\n",
       "      <th>max_R_squared</th>\n",
       "    </tr>\n",
       "  </thead>\n",
       "  <tbody>\n",
       "    <tr>\n",
       "      <th>0</th>\n",
       "      <td>1</td>\n",
       "      <td>36275.512356</td>\n",
       "      <td>0.150780</td>\n",
       "      <td>(CRIM,)</td>\n",
       "      <td>19472.381418</td>\n",
       "      <td>0.544146</td>\n",
       "    </tr>\n",
       "    <tr>\n",
       "      <th>1</th>\n",
       "      <td>1</td>\n",
       "      <td>37166.558224</td>\n",
       "      <td>0.129921</td>\n",
       "      <td>(ZN,)</td>\n",
       "      <td>19472.381418</td>\n",
       "      <td>0.544146</td>\n",
       "    </tr>\n",
       "    <tr>\n",
       "      <th>2</th>\n",
       "      <td>1</td>\n",
       "      <td>32721.108150</td>\n",
       "      <td>0.233990</td>\n",
       "      <td>(INDUS,)</td>\n",
       "      <td>19472.381418</td>\n",
       "      <td>0.544146</td>\n",
       "    </tr>\n",
       "    <tr>\n",
       "      <th>3</th>\n",
       "      <td>1</td>\n",
       "      <td>41404.216144</td>\n",
       "      <td>0.030716</td>\n",
       "      <td>(CHAS,)</td>\n",
       "      <td>19472.381418</td>\n",
       "      <td>0.544146</td>\n",
       "    </tr>\n",
       "    <tr>\n",
       "      <th>4</th>\n",
       "      <td>1</td>\n",
       "      <td>34916.169908</td>\n",
       "      <td>0.182603</td>\n",
       "      <td>(NOX,)</td>\n",
       "      <td>19472.381418</td>\n",
       "      <td>0.544146</td>\n",
       "    </tr>\n",
       "  </tbody>\n",
       "</table>\n",
       "</div>"
      ],
      "text/plain": [
       "   numb_features           RSS  R_squared  features       min_RSS  \\\n",
       "0              1  36275.512356   0.150780   (CRIM,)  19472.381418   \n",
       "1              1  37166.558224   0.129921     (ZN,)  19472.381418   \n",
       "2              1  32721.108150   0.233990  (INDUS,)  19472.381418   \n",
       "3              1  41404.216144   0.030716   (CHAS,)  19472.381418   \n",
       "4              1  34916.169908   0.182603    (NOX,)  19472.381418   \n",
       "\n",
       "   max_R_squared  \n",
       "0       0.544146  \n",
       "1       0.544146  \n",
       "2       0.544146  \n",
       "3       0.544146  \n",
       "4       0.544146  "
      ]
     },
     "execution_count": 8,
     "metadata": {},
     "output_type": "execute_result"
    }
   ],
   "source": [
    "df['min_RSS'] = df.groupby('numb_features')['RSS'].transform(min)\n",
    "df['max_R_squared'] = df.groupby('numb_features')['R_squared'].transform(max)\n",
    "df.head()"
   ]
  },
  {
   "cell_type": "markdown",
   "metadata": {},
   "source": [
    "---"
   ]
  },
  {
   "cell_type": "markdown",
   "metadata": {},
   "source": [
    "### Plotting the best subset selection process"
   ]
  },
  {
   "cell_type": "code",
   "execution_count": 9,
   "metadata": {},
   "outputs": [
    {
     "data": {
      "image/png": "[encoded data removed]",
      "text/plain": [
       "<Figure size 1152x432 with 2 Axes>"
      ]
     },
     "metadata": {},
     "output_type": "display_data"
    }
   ],
   "source": [
    "fig = plt.figure(figsize = (16,6))\n",
    "ax = fig.add_subplot(1, 2, 1)\n",
    "\n",
    "ax.scatter(df.numb_features,df.RSS, alpha = .2, color = 'darkblue' )\n",
    "ax.set_xlabel('# Features')\n",
    "ax.set_ylabel('RSS')\n",
    "ax.set_title('RSS - Best subset selection')\n",
    "ax.plot(df.numb_features,df.min_RSS,color = 'r', label = 'Best subset')\n",
    "ax.legend()\n",
    "\n",
    "ax = fig.add_subplot(1, 2, 2)\n",
    "ax.scatter(df.numb_features,df.R_squared, alpha = .2, color = 'darkblue' )\n",
    "ax.plot(df.numb_features,df.max_R_squared,color = 'r', label = 'Best subset')\n",
    "ax.set_xlabel('# Features')\n",
    "ax.set_ylabel('R squared')\n",
    "ax.set_title('R_squared - Best subset selection')\n",
    "ax.legend()\n",
    "\n",
    "plt.show()"
   ]
  },
  {
   "cell_type": "markdown",
   "metadata": {},
   "source": [
    "---"
   ]
  },
  {
   "cell_type": "markdown",
   "metadata": {},
   "source": [
    "# Forward Stepwise Selection\n",
    "Now we will try the original data with a different algorithm."
   ]
  },
  {
   "cell_type": "code",
   "execution_count": 10,
   "metadata": {},
   "outputs": [
    {
     "name": "stdout",
     "output_type": "stream",
     "text": [
      "Forward Stepwise Subset Selection Runtime: 0.8244 seconds\n"
     ]
    }
   ],
   "source": [
    "#Initialization variables\n",
    "Y = boston_df['MEDV']\n",
    "X = boston_df.drop('MEDV', axis=1)\n",
    "k = 13\n",
    "\n",
    "remaining_features = list(X.columns.values)\n",
    "features = []\n",
    "RSS_list, R_squared_list = [np.inf], [np.inf] #Due to 1 indexing of the loop...\n",
    "features_list = dict()\n",
    "\n",
    "start = time.perf_counter()\n",
    "for i in range(1,k+1):\n",
    "    best_RSS = np.inf\n",
    "    \n",
    "    for combo in itertools.combinations(remaining_features,1):\n",
    "\n",
    "            RSS = fit_linear_reg(X[list(combo) + features],Y)   #Store temp result \n",
    "\n",
    "            if RSS[0] < best_RSS:\n",
    "                best_RSS = RSS[0]\n",
    "                best_R_squared = RSS[1] \n",
    "                best_feature = combo[0]\n",
    "\n",
    "    #Updating variables for next loop\n",
    "    features.append(best_feature)\n",
    "    remaining_features.remove(best_feature)\n",
    "    \n",
    "    #Saving values for plotting\n",
    "    RSS_list.append(best_RSS)\n",
    "    R_squared_list.append(best_R_squared)\n",
    "    features_list[i] = features.copy()\n",
    "\n",
    "end = time.perf_counter()\n",
    "print(f\"Forward Stepwise Subset Selection Runtime: {end - start:0.4f} seconds\")"
   ]
  },
  {
   "cell_type": "markdown",
   "metadata": {},
   "source": [
    "### Displaying results of the first 5 steps"
   ]
  },
  {
   "cell_type": "code",
   "execution_count": 11,
   "metadata": {},
   "outputs": [
    {
     "name": "stdout",
     "output_type": "stream",
     "text": [
      "Forward stepwise subset selection\n",
      "Number of features | Features | RSS\n"
     ]
    },
    {
     "data": {
      "text/plain": [
       "[(1, ['LSTAT'], 19472),\n",
       " (2, ['LSTAT', 'RM'], 15439),\n",
       " (3, ['LSTAT', 'RM', 'PTRATIO'], 13728),\n",
       " (4, ['LSTAT', 'RM', 'PTRATIO', 'DIS'], 13229),\n",
       " (5, ['LSTAT', 'RM', 'PTRATIO', 'DIS', 'NOX'], 12469)]"
      ]
     },
     "metadata": {},
     "output_type": "display_data"
    }
   ],
   "source": [
    "print('Forward stepwise subset selection')\n",
    "print('Number of features |', 'Features |', 'RSS')\n",
    "display([(i,features_list[i], round(RSS_list[i])) for i in range(1,6)])"
   ]
  },
  {
   "cell_type": "markdown",
   "metadata": {},
   "source": [
    "---"
   ]
  },
  {
   "cell_type": "markdown",
   "metadata": {},
   "source": [
    "# Comparing models: AIC, BIC, Mallows' $C_p$, and Adjusted $R^2$\n",
    "The selection methods seem to have an agreement in the first 5 predictors. But how many predictors *should* we use? What are they?\n",
    "\n",
    "Using the RSS or even the $R^2$ methods are not helpful, as both seem to suggest that all predictors should be used for our model. However, we know that this can lead to overfitting the training data and result in a model with high variance. So we will use the full range of statistics we learned about in Chapter 6 of ISLR.\n",
    "\n",
    "Recall from Chapter 3 that RSE is the estimate of $\\sigma$ and that (3.25) gives us the RSE from a data set with multiple predictors as\n",
    "\n",
    "\\begin{align*}\n",
    "    \\hat{\\sigma}^2 = \\left( \\text{RSE} \\right)^2 = \\frac{\\text{RSS}}{n - p - 1}\n",
    "\\end{align*}\n"
   ]
  },
  {
   "cell_type": "markdown",
   "metadata": {},
   "source": [
    "### Combining forward stepwise results into a new DataFrame"
   ]
  },
  {
   "cell_type": "code",
   "execution_count": 12,
   "metadata": {},
   "outputs": [],
   "source": [
    "df1 = pd.concat([pd.DataFrame({'features':features_list}),pd.DataFrame({'RSS':RSS_list, 'R_squared': R_squared_list})], axis=1, join='inner')\n",
    "df1['numb_features'] = df1.index"
   ]
  },
  {
   "cell_type": "markdown",
   "metadata": {},
   "source": [
    "### Computing the $C_p$, AIC, BIC and $R^2$ adjusted"
   ]
  },
  {
   "cell_type": "code",
   "execution_count": 13,
   "metadata": {},
   "outputs": [
    {
     "data": {
      "text/html": [
       "<div>\n",
       "<style scoped>\n",
       "    .dataframe tbody tr th:only-of-type {\n",
       "        vertical-align: middle;\n",
       "    }\n",
       "\n",
       "    .dataframe tbody tr th {\n",
       "        vertical-align: top;\n",
       "    }\n",
       "\n",
       "    .dataframe thead th {\n",
       "        text-align: right;\n",
       "    }\n",
       "</style>\n",
       "<table border=\"1\" class=\"dataframe\">\n",
       "  <thead>\n",
       "    <tr style=\"text-align: right;\">\n",
       "      <th></th>\n",
       "      <th>features</th>\n",
       "      <th>RSS</th>\n",
       "      <th>R_squared</th>\n",
       "      <th>numb_features</th>\n",
       "      <th>C_p</th>\n",
       "      <th>AIC</th>\n",
       "      <th>BIC</th>\n",
       "      <th>R_squared_adj</th>\n",
       "    </tr>\n",
       "  </thead>\n",
       "  <tbody>\n",
       "    <tr>\n",
       "      <th>1</th>\n",
       "      <td>[LSTAT]</td>\n",
       "      <td>19472.381418</td>\n",
       "      <td>0.544146</td>\n",
       "      <td>1</td>\n",
       "      <td>38.571971</td>\n",
       "      <td>1.712950</td>\n",
       "      <td>1.721303</td>\n",
       "      <td>0.543242</td>\n",
       "    </tr>\n",
       "    <tr>\n",
       "      <th>2</th>\n",
       "      <td>[LSTAT, RM]</td>\n",
       "      <td>15439.309201</td>\n",
       "      <td>0.638562</td>\n",
       "      <td>2</td>\n",
       "      <td>30.690476</td>\n",
       "      <td>1.362940</td>\n",
       "      <td>1.379645</td>\n",
       "      <td>0.637124</td>\n",
       "    </tr>\n",
       "    <tr>\n",
       "      <th>3</th>\n",
       "      <td>[LSTAT, RM, PTRATIO]</td>\n",
       "      <td>13727.985314</td>\n",
       "      <td>0.678624</td>\n",
       "      <td>3</td>\n",
       "      <td>27.397416</td>\n",
       "      <td>1.216697</td>\n",
       "      <td>1.241756</td>\n",
       "      <td>0.676704</td>\n",
       "    </tr>\n",
       "    <tr>\n",
       "      <th>4</th>\n",
       "      <td>[LSTAT, RM, PTRATIO, DIS]</td>\n",
       "      <td>13228.907703</td>\n",
       "      <td>0.690308</td>\n",
       "      <td>4</td>\n",
       "      <td>26.500100</td>\n",
       "      <td>1.176848</td>\n",
       "      <td>1.210260</td>\n",
       "      <td>0.687835</td>\n",
       "    </tr>\n",
       "    <tr>\n",
       "      <th>5</th>\n",
       "      <td>[LSTAT, RM, PTRATIO, DIS, NOX]</td>\n",
       "      <td>12469.344151</td>\n",
       "      <td>0.708089</td>\n",
       "      <td>5</td>\n",
       "      <td>25.087990</td>\n",
       "      <td>1.114138</td>\n",
       "      <td>1.155902</td>\n",
       "      <td>0.705170</td>\n",
       "    </tr>\n",
       "    <tr>\n",
       "      <th>6</th>\n",
       "      <td>[LSTAT, RM, PTRATIO, DIS, NOX, CHAS]</td>\n",
       "      <td>12141.072736</td>\n",
       "      <td>0.715774</td>\n",
       "      <td>6</td>\n",
       "      <td>24.528235</td>\n",
       "      <td>1.089279</td>\n",
       "      <td>1.139396</td>\n",
       "      <td>0.712357</td>\n",
       "    </tr>\n",
       "    <tr>\n",
       "      <th>7</th>\n",
       "      <td>[LSTAT, RM, PTRATIO, DIS, NOX, CHAS, B]</td>\n",
       "      <td>11868.235607</td>\n",
       "      <td>0.722161</td>\n",
       "      <td>7</td>\n",
       "      <td>24.078035</td>\n",
       "      <td>1.069286</td>\n",
       "      <td>1.127756</td>\n",
       "      <td>0.718256</td>\n",
       "    </tr>\n",
       "    <tr>\n",
       "      <th>8</th>\n",
       "      <td>[LSTAT, RM, PTRATIO, DIS, NOX, CHAS, B, ZN]</td>\n",
       "      <td>11678.299470</td>\n",
       "      <td>0.726608</td>\n",
       "      <td>8</td>\n",
       "      <td>23.791670</td>\n",
       "      <td>1.056569</td>\n",
       "      <td>1.123392</td>\n",
       "      <td>0.722207</td>\n",
       "    </tr>\n",
       "    <tr>\n",
       "      <th>9</th>\n",
       "      <td>[LSTAT, RM, PTRATIO, DIS, NOX, CHAS, B, ZN, CRIM]</td>\n",
       "      <td>11583.587544</td>\n",
       "      <td>0.728825</td>\n",
       "      <td>9</td>\n",
       "      <td>23.693496</td>\n",
       "      <td>1.052209</td>\n",
       "      <td>1.127385</td>\n",
       "      <td>0.723905</td>\n",
       "    </tr>\n",
       "    <tr>\n",
       "      <th>10</th>\n",
       "      <td>[LSTAT, RM, PTRATIO, DIS, NOX, CHAS, B, ZN, CR...</td>\n",
       "      <td>11354.983231</td>\n",
       "      <td>0.734177</td>\n",
       "      <td>10</td>\n",
       "      <td>23.330712</td>\n",
       "      <td>1.036098</td>\n",
       "      <td>1.119627</td>\n",
       "      <td>0.728807</td>\n",
       "    </tr>\n",
       "    <tr>\n",
       "      <th>11</th>\n",
       "      <td>[LSTAT, RM, PTRATIO, DIS, NOX, CHAS, B, ZN, CR...</td>\n",
       "      <td>11081.363952</td>\n",
       "      <td>0.740582</td>\n",
       "      <td>11</td>\n",
       "      <td>22.878966</td>\n",
       "      <td>1.016037</td>\n",
       "      <td>1.107918</td>\n",
       "      <td>0.734806</td>\n",
       "    </tr>\n",
       "    <tr>\n",
       "      <th>12</th>\n",
       "      <td>[LSTAT, RM, PTRATIO, DIS, NOX, CHAS, B, ZN, CR...</td>\n",
       "      <td>11078.846412</td>\n",
       "      <td>0.740641</td>\n",
       "      <td>12</td>\n",
       "      <td>22.962994</td>\n",
       "      <td>1.019768</td>\n",
       "      <td>1.120002</td>\n",
       "      <td>0.734328</td>\n",
       "    </tr>\n",
       "    <tr>\n",
       "      <th>13</th>\n",
       "      <td>[LSTAT, RM, PTRATIO, DIS, NOX, CHAS, B, ZN, CR...</td>\n",
       "      <td>11078.784578</td>\n",
       "      <td>0.740643</td>\n",
       "      <td>13</td>\n",
       "      <td>23.051875</td>\n",
       "      <td>1.023715</td>\n",
       "      <td>1.132302</td>\n",
       "      <td>0.733790</td>\n",
       "    </tr>\n",
       "  </tbody>\n",
       "</table>\n",
       "</div>"
      ],
      "text/plain": [
       "                                             features           RSS  \\\n",
       "1                                             [LSTAT]  19472.381418   \n",
       "2                                         [LSTAT, RM]  15439.309201   \n",
       "3                                [LSTAT, RM, PTRATIO]  13727.985314   \n",
       "4                           [LSTAT, RM, PTRATIO, DIS]  13228.907703   \n",
       "5                      [LSTAT, RM, PTRATIO, DIS, NOX]  12469.344151   \n",
       "6                [LSTAT, RM, PTRATIO, DIS, NOX, CHAS]  12141.072736   \n",
       "7             [LSTAT, RM, PTRATIO, DIS, NOX, CHAS, B]  11868.235607   \n",
       "8         [LSTAT, RM, PTRATIO, DIS, NOX, CHAS, B, ZN]  11678.299470   \n",
       "9   [LSTAT, RM, PTRATIO, DIS, NOX, CHAS, B, ZN, CRIM]  11583.587544   \n",
       "10  [LSTAT, RM, PTRATIO, DIS, NOX, CHAS, B, ZN, CR...  11354.983231   \n",
       "11  [LSTAT, RM, PTRATIO, DIS, NOX, CHAS, B, ZN, CR...  11081.363952   \n",
       "12  [LSTAT, RM, PTRATIO, DIS, NOX, CHAS, B, ZN, CR...  11078.846412   \n",
       "13  [LSTAT, RM, PTRATIO, DIS, NOX, CHAS, B, ZN, CR...  11078.784578   \n",
       "\n",
       "    R_squared  numb_features        C_p       AIC       BIC  R_squared_adj  \n",
       "1    0.544146              1  38.571971  1.712950  1.721303       0.543242  \n",
       "2    0.638562              2  30.690476  1.362940  1.379645       0.637124  \n",
       "3    0.678624              3  27.397416  1.216697  1.241756       0.676704  \n",
       "4    0.690308              4  26.500100  1.176848  1.210260       0.687835  \n",
       "5    0.708089              5  25.087990  1.114138  1.155902       0.705170  \n",
       "6    0.715774              6  24.528235  1.089279  1.139396       0.712357  \n",
       "7    0.722161              7  24.078035  1.069286  1.127756       0.718256  \n",
       "8    0.726608              8  23.791670  1.056569  1.123392       0.722207  \n",
       "9    0.728825              9  23.693496  1.052209  1.127385       0.723905  \n",
       "10   0.734177             10  23.330712  1.036098  1.119627       0.728807  \n",
       "11   0.740582             11  22.878966  1.016037  1.107918       0.734806  \n",
       "12   0.740641             12  22.962994  1.019768  1.120002       0.734328  \n",
       "13   0.740643             13  23.051875  1.023715  1.132302       0.733790  "
      ]
     },
     "execution_count": 13,
     "metadata": {},
     "output_type": "execute_result"
    }
   ],
   "source": [
    "#Initializing useful variables\n",
    "m = len(Y)\n",
    "p = 13\n",
    "hat_sigma_squared = (1/(m - p -1)) * min(df1['RSS'])\n",
    "\n",
    "#Computing\n",
    "df1['C_p'] = (1/m) * (df1['RSS'] + 2 * df1['numb_features'] * hat_sigma_squared )\n",
    "df1['AIC'] = (1/(m*hat_sigma_squared)) * (df1['RSS'] + 2 * df1['numb_features'] * hat_sigma_squared )\n",
    "df1['BIC'] = (1/(m*hat_sigma_squared)) * (df1['RSS'] +  np.log(m) * df1['numb_features'] * hat_sigma_squared )\n",
    "df1['R_squared_adj'] = 1 - ( (1 - df1['R_squared'])*(m-1)/(m-df1['numb_features'] -1))\n",
    "df1"
   ]
  },
  {
   "cell_type": "code",
   "execution_count": 14,
   "metadata": {},
   "outputs": [
    {
     "data": {
      "text/plain": [
       "0.7348057723274566"
      ]
     },
     "execution_count": 14,
     "metadata": {},
     "output_type": "execute_result"
    }
   ],
   "source": [
    "df1['R_squared_adj'].idxmax()\n",
    "df1['R_squared_adj'].max()"
   ]
  },
  {
   "cell_type": "markdown",
   "metadata": {},
   "source": [
    "---"
   ]
  },
  {
   "cell_type": "markdown",
   "metadata": {},
   "source": [
    "### Plotting the computed values as a function of number of features"
   ]
  },
  {
   "cell_type": "code",
   "execution_count": 15,
   "metadata": {},
   "outputs": [
    {
     "data": {
      "image/png": "[encoded data removed]",
      "text/plain": [
       "<Figure size 1296x432 with 4 Axes>"
      ]
     },
     "metadata": {},
     "output_type": "display_data"
    }
   ],
   "source": [
    "variables = ['C_p', 'AIC','BIC','R_squared_adj']\n",
    "fig = plt.figure(figsize = (18,6))\n",
    "\n",
    "for i,v in enumerate(variables):\n",
    "    ax = fig.add_subplot(1, 4, i+1)\n",
    "    ax.plot(df1['numb_features'],df1[v], color = 'lightblue')\n",
    "    ax.scatter(df1['numb_features'],df1[v], color = 'darkblue')\n",
    "    if v == 'R_squared_adj':\n",
    "        ax.plot(df1[v].idxmax(),df1[v].max(), marker = 'x', markersize = 20)\n",
    "    else:\n",
    "        ax.plot(df1[v].idxmin(),df1[v].min(), marker = 'x', markersize = 20)\n",
    "    ax.set_xlabel('Number of predictors')\n",
    "    ax.set_ylabel(v)\n",
    "\n",
    "fig.suptitle('Subset selection using C_p, AIC, BIC, Adjusted R2', fontsize = 16)\n",
    "plt.show()"
   ]
  },
  {
   "cell_type": "markdown",
   "metadata": {},
   "source": [
    "---"
   ]
  },
  {
   "cell_type": "markdown",
   "metadata": {},
   "source": [
    "### So what are the features?\n",
    "We see that every statistic seems to recommend 11 predictors. Let's see what they are."
   ]
  },
  {
   "cell_type": "code",
   "execution_count": 16,
   "metadata": {},
   "outputs": [
    {
     "data": {
      "text/plain": [
       "['LSTAT',\n",
       " 'RM',\n",
       " 'PTRATIO',\n",
       " 'DIS',\n",
       " 'NOX',\n",
       " 'CHAS',\n",
       " 'B',\n",
       " 'ZN',\n",
       " 'CRIM',\n",
       " 'RAD',\n",
       " 'TAX']"
      ]
     },
     "execution_count": 16,
     "metadata": {},
     "output_type": "execute_result"
    }
   ],
   "source": [
    "df1.loc[11].features"
   ]
  },
  {
   "cell_type": "markdown",
   "metadata": {},
   "source": [
    "It seems the model has dropped **AGE**: proportion of owner-occupied units built prior to 1940  \n",
    "and **INDUS**: proportion of non-retail business acres per town."
   ]
  }
 ],
 "metadata": {
  "kernelspec": {
   "display_name": "Python 3",
   "language": "python",
   "name": "python3"
  },
  "language_info": {
   "codemirror_mode": {
    "name": "ipython",
    "version": 3
   },
   "file_extension": ".py",
   "mimetype": "text/x-python",
   "name": "python",
   "nbconvert_exporter": "python",
   "pygments_lexer": "ipython3",
   "version": "3.8.5"
  },
  "latex_envs": {
   "LaTeX_envs_menu_present": true,
   "autoclose": false,
   "autocomplete": true,
   "bibliofile": "biblio.bib",
   "cite_by": "apalike",
   "current_citInitial": 1,
   "eqLabelWithNumbers": true,
   "eqNumInitial": 1,
   "hotkeys": {
    "equation": "Ctrl-E",
    "itemize": "Ctrl-I"
   },
   "labels_anchors": false,
   "latex_user_defs": false,
   "report_style_numbering": true,
   "user_envs_cfg": false
  }
 },
 "nbformat": 4,
 "nbformat_minor": 4
}
